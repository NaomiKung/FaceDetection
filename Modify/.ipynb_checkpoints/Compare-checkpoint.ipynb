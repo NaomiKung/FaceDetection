{
 "cells": [
  {
   "cell_type": "code",
   "execution_count": 11,
   "id": "inappropriate-evolution",
   "metadata": {},
   "outputs": [
    {
     "ename": "ImportError",
     "evalue": "cannot import name 'img_face'",
     "output_type": "error",
     "traceback": [
      "\u001b[0;31m---------------------------------------------------------------------------\u001b[0m",
      "\u001b[0;31mImportError\u001b[0m                               Traceback (most recent call last)",
      "\u001b[0;32m<ipython-input-11-8f8c9760dfcc>\u001b[0m in \u001b[0;36m<module>\u001b[0;34m\u001b[0m\n\u001b[1;32m      3\u001b[0m \u001b[0;32mfrom\u001b[0m \u001b[0mprocess\u001b[0m\u001b[0;34m.\u001b[0m\u001b[0mresize\u001b[0m \u001b[0;32mimport\u001b[0m \u001b[0mresize\u001b[0m\u001b[0;34m\u001b[0m\u001b[0;34m\u001b[0m\u001b[0m\n\u001b[1;32m      4\u001b[0m \u001b[0;32mimport\u001b[0m \u001b[0mcv2\u001b[0m\u001b[0;34m\u001b[0m\u001b[0;34m\u001b[0m\u001b[0m\n\u001b[0;32m----> 5\u001b[0;31m \u001b[0;32mfrom\u001b[0m \u001b[0mprocess\u001b[0m\u001b[0;34m.\u001b[0m\u001b[0mcrop_face\u001b[0m \u001b[0;32mimport\u001b[0m \u001b[0mimg_face\u001b[0m\u001b[0;34m\u001b[0m\u001b[0;34m\u001b[0m\u001b[0m\n\u001b[0m",
      "\u001b[0;31mImportError\u001b[0m: cannot import name 'img_face'"
     ]
    }
   ],
   "source": [
    "import os\n",
    "import annoy\n",
    "from process.resize import resize\n",
    "import cv2\n",
    "from process.crop_face import img_face"
   ]
  },
  {
   "cell_type": "code",
   "execution_count": 4,
   "id": "impressive-crystal",
   "metadata": {},
   "outputs": [],
   "source": [
    "files = []\n",
    "for r, d, f in os.walk('image/'):\n",
    "    for file in f:\n",
    "        if '.png' in file:\n",
    "            exact_path = r + file\n",
    "            files.append(exact_path)"
   ]
  },
  {
   "cell_type": "code",
   "execution_count": 5,
   "id": "recognized-hotel",
   "metadata": {},
   "outputs": [
    {
     "data": {
      "text/plain": [
       "['image/Beam_1.png',\n",
       " 'image/Krit_1.png',\n",
       " 'image/Oak_4.png',\n",
       " 'image/ping_2.png',\n",
       " 'image/Jarean_1.png',\n",
       " 'image/Jarean_2.png',\n",
       " 'image/ping_1.png',\n",
       " 'image/Oak_3.png']"
      ]
     },
     "execution_count": 5,
     "metadata": {},
     "output_type": "execute_result"
    }
   ],
   "source": [
    "files"
   ]
  },
  {
   "cell_type": "code",
   "execution_count": 6,
   "id": "velvet-morocco",
   "metadata": {},
   "outputs": [],
   "source": [
    "image = []\n",
    "for i in files:\n",
    "    img = cv2.imread(i)\n",
    "    image.append(img)"
   ]
  },
  {
   "cell_type": "code",
   "execution_count": 7,
   "id": "differential-survival",
   "metadata": {},
   "outputs": [
    {
     "data": {
      "text/plain": [
       "8"
      ]
     },
     "execution_count": 7,
     "metadata": {},
     "output_type": "execute_result"
    }
   ],
   "source": [
    "len(image)"
   ]
  },
  {
   "cell_type": "code",
   "execution_count": 8,
   "id": "alone-damages",
   "metadata": {},
   "outputs": [
    {
     "name": "stdout",
     "output_type": "stream",
     "text": [
      "Ready\n"
     ]
    }
   ],
   "source": [
    "from Model.facenet_basemodel import FaceNet\n",
    "model = FaceNet().loadModel('./Model/facenet_weights.h5')"
   ]
  },
  {
   "cell_type": "code",
   "execution_count": 9,
   "id": "approved-nitrogen",
   "metadata": {},
   "outputs": [
    {
     "ename": "TypeError",
     "evalue": "crop_face() missing 2 required positional arguments: 'frame' and 'frame2'",
     "output_type": "error",
     "traceback": [
      "\u001b[0;31m---------------------------------------------------------------------------\u001b[0m",
      "\u001b[0;31mTypeError\u001b[0m                                 Traceback (most recent call last)",
      "\u001b[0;32m<ipython-input-9-fef2a6acd875>\u001b[0m in \u001b[0;36m<module>\u001b[0;34m\u001b[0m\n\u001b[1;32m      3\u001b[0m     \u001b[0;32mfor\u001b[0m \u001b[0mimg\u001b[0m \u001b[0;32min\u001b[0m \u001b[0mimage\u001b[0m\u001b[0;34m:\u001b[0m\u001b[0;34m\u001b[0m\u001b[0;34m\u001b[0m\u001b[0m\n\u001b[1;32m      4\u001b[0m \u001b[0;34m\u001b[0m\u001b[0m\n\u001b[0;32m----> 5\u001b[0;31m         \u001b[0mimg_crop\u001b[0m \u001b[0;34m=\u001b[0m \u001b[0mcrop_face\u001b[0m\u001b[0;34m(\u001b[0m\u001b[0mimg\u001b[0m\u001b[0;34m)\u001b[0m\u001b[0;34m\u001b[0m\u001b[0;34m\u001b[0m\u001b[0m\n\u001b[0m\u001b[1;32m      6\u001b[0m \u001b[0;34m\u001b[0m\u001b[0m\n\u001b[1;32m      7\u001b[0m         \u001b[0mimg_re\u001b[0m \u001b[0;34m=\u001b[0m \u001b[0mresize\u001b[0m\u001b[0;34m(\u001b[0m\u001b[0mimg_crop\u001b[0m\u001b[0;34m)\u001b[0m\u001b[0;34m\u001b[0m\u001b[0;34m\u001b[0m\u001b[0m\n",
      "\u001b[0;31mTypeError\u001b[0m: crop_face() missing 2 required positional arguments: 'frame' and 'frame2'"
     ]
    }
   ],
   "source": [
    "representations = []\n",
    "for path in files:\n",
    "    for img in image:\n",
    "        \n",
    "        img_crop = crop_face(img)\n",
    "        \n",
    "        img_re = resize(img_crop)\n",
    "        embedding = model.predict(img_re)[0, :]\n",
    "    \n",
    "        representation = []\n",
    "        representation.append(path)\n",
    "        representation.append(embedding)\n",
    "        representations.append(representation)"
   ]
  },
  {
   "cell_type": "code",
   "execution_count": 23,
   "id": "injured-assumption",
   "metadata": {},
   "outputs": [
    {
     "data": {
      "text/plain": [
       "['image/Oak_3.png',\n",
       " array([-0.2538788 ,  1.0185928 ,  0.8760738 ,  0.16149351,  1.5783514 ,\n",
       "         1.3350885 ,  0.63244206, -0.48875606, -0.79182416, -0.8887598 ,\n",
       "         1.97617   , -3.0709147 ,  0.18079688,  0.55964494, -1.8539934 ,\n",
       "        -1.365314  ,  1.3183184 , -4.5012674 ,  0.36013502, -1.6609836 ,\n",
       "         2.3221428 , -3.986569  ,  1.1617366 ,  3.3141375 ,  1.9174336 ,\n",
       "         2.4977996 ,  2.474919  ,  0.44744158,  1.1334677 , -3.5315354 ,\n",
       "         0.6412717 ,  1.7285244 ,  0.62871796,  0.30636767, -0.8281545 ,\n",
       "         0.9639516 ,  1.705596  ,  0.5809544 ,  0.70552605,  0.65011454,\n",
       "         0.25549242,  0.43177754, -0.39958498,  0.29590395, -4.592616  ,\n",
       "         3.329291  ,  1.3830026 ,  0.46762526,  0.06153156, -4.6103296 ,\n",
       "         3.128534  ,  2.3385243 ,  0.81960726,  1.0786752 ,  1.1341033 ,\n",
       "         5.6154375 ,  0.82549816, -3.2606993 ,  2.919516  ,  2.8346827 ,\n",
       "        -0.79034996,  0.48230654,  1.356069  , -0.31796438, -0.7557233 ,\n",
       "        -1.1402245 ,  0.21885163, -0.33775726,  2.0652273 ,  2.2775881 ,\n",
       "        -0.8867571 ,  0.9122398 , -2.0626888 ,  1.5431534 , -2.6827128 ,\n",
       "         3.4097257 , -0.3639074 ,  1.2972006 , -2.005312  , -2.5438867 ,\n",
       "         1.0145565 ,  0.8693229 ,  1.8201326 ,  0.3003734 , -0.18167064,\n",
       "         1.3539435 ,  2.8679278 , -2.7650907 ,  0.17092684,  0.84802234,\n",
       "         0.27637103, -2.04185   ,  1.9994433 , -0.6826034 ,  0.81955796,\n",
       "         3.4570668 ,  1.9033158 , -3.1076825 ,  2.1762764 ,  1.7201225 ,\n",
       "        -3.08406   , -1.5937718 ,  0.61793846,  1.3422544 ,  0.12430974,\n",
       "        -1.2456634 , -3.388755  ,  3.7573433 ,  1.2814403 , -1.8304847 ,\n",
       "        -1.8762811 , -3.215379  , -0.03474521, -0.87256837, -0.13348025,\n",
       "         2.0254035 , -0.87868476,  1.0911084 ,  0.51951236, -3.2522564 ,\n",
       "         1.1565303 , -1.8778143 , -0.7529002 ,  1.2803909 ,  1.1248038 ,\n",
       "         0.5793715 ,  1.9411777 , -2.347313  ], dtype=float32)]"
      ]
     },
     "execution_count": 23,
     "metadata": {},
     "output_type": "execute_result"
    }
   ],
   "source": [
    "representation"
   ]
  },
  {
   "cell_type": "code",
   "execution_count": null,
   "id": "accompanied-burden",
   "metadata": {},
   "outputs": [],
   "source": []
  }
 ],
 "metadata": {
  "kernelspec": {
   "display_name": "Python 3",
   "language": "python",
   "name": "python3"
  },
  "language_info": {
   "codemirror_mode": {
    "name": "ipython",
    "version": 3
   },
   "file_extension": ".py",
   "mimetype": "text/x-python",
   "name": "python",
   "nbconvert_exporter": "python",
   "pygments_lexer": "ipython3",
   "version": "3.6.12"
  }
 },
 "nbformat": 4,
 "nbformat_minor": 5
}
